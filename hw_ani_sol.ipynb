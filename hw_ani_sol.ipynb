{
 "cells": [
  {
   "cell_type": "markdown",
   "metadata": {},
   "source": [
    "### WAP to take  user input of 4 students. Get the student Name, marks n 3 subject and calculate their percentage. Also display each student's details."
   ]
  },
  {
   "cell_type": "code",
   "execution_count": 7,
   "metadata": {},
   "outputs": [
    {
     "name": "stdout",
     "output_type": "stream",
     "text": [
      "Student 1 , Enter your name: hina\n",
      "Enter the marks of 3 subjects: 100 100 100\n",
      "Student 1  hina Your total percentage is:  100.0\n",
      "Student 2 , Enter your name: anu\n",
      "Enter the marks of 3 subjects: 50 60 70\n",
      "Student 2  anu Your total percentage is:  60.0\n",
      "Student 3 , Enter your name: ajay\n",
      "Enter the marks of 3 subjects: 90 90 90\n",
      "Student 3  ajay Your total percentage is:  90.0\n",
      "Student 4 , Enter your name: adi\n",
      "Enter the marks of 3 subjects: 100 100 100\n",
      "Student 4  adi Your total percentage is:  100.0\n"
     ]
    }
   ],
   "source": [
    "name1 = str(input(\"Student 1 , Enter your name: \"))\n",
    "m1 = list(map(int, input(\"Enter the marks of 3 subjects: \").strip().split()))[:3]\n",
    "tot1=sum(m1)/3\n",
    "print(\"Student 1 \", name1, \"Your total percentage is: \", tot1)\n",
    "\n",
    "name2 = str(input(\"Student 2 , Enter your name: \"))\n",
    "m2 = list(map(int, input(\"Enter the marks of 3 subjects: \").strip().split()))[:3]\n",
    "tot2=sum(m2)/3\n",
    "print(\"Student 2 \", name2, \"Your total percentage is: \", tot2)\n",
    "\n",
    "name3 = str(input(\"Student 3 , Enter your name: \"))\n",
    "m3 = list(map(int, input(\"Enter the marks of 3 subjects: \").strip().split()))[:3]\n",
    "tot3=sum(m3)/3\n",
    "print(\"Student 3 \", name3, \"Your total percentage is: \", tot3)\n",
    "\n",
    "name4 = str(input(\"Student 4 , Enter your name: \"))\n",
    "m4 = list(map(int, input(\"Enter the marks of 3 subjects: \").strip().split()))[:3]\n",
    "tot4 =sum(m4)/3\n",
    "print(\"Student 4 \", name4, \"Your total percentage is: \", tot4)"
   ]
  },
  {
   "cell_type": "markdown",
   "metadata": {},
   "source": [
    "### WAP creates three lists from the user and finds the maximum of each list and performs addition, subtraction, multiplication on those elements."
   ]
  },
  {
   "cell_type": "code",
   "execution_count": 10,
   "metadata": {},
   "outputs": [
    {
     "name": "stdout",
     "output_type": "stream",
     "text": [
      "This is list 1, Enter any 3 integers: 4 5 6\n",
      "This is list 2, enter any 3 integer: 1 2 3\n",
      "This is list 3, enter any 3 integers: 6 7 8\n",
      "Sum of the maximum in the list is,  17 , subtracted elements are,  -5 , finally when we multiply them,  144\n"
     ]
    }
   ],
   "source": [
    "l1 = list(map(int, input(\"This is list 1, Enter any 3 integers: \").strip().split()))[:3]\n",
    "l2 = list(map(int, input(\"This is list 2, enter any 3 integer: \").strip().split()))[:3]\n",
    "l3 = list(map(int,input(\"This is list 3, enter any 3 integers: \").strip().split()))[:3]\n",
    "\n",
    "add = max(l1)+max(l2)+max(l3)\n",
    "sub = max(l1)-max(l2)-max(l3)\n",
    "mult = max(l1)*max(l2)*max(l3)\n",
    "print(\"Sum of the maximum in the list is, \",add,\", subtracted elements are, \",sub,\", finally when we multiply them, \",mult)"
   ]
  },
  {
   "cell_type": "markdown",
   "metadata": {},
   "source": [
    "### WAP to get an employee ID, number of total days present, and wages per day using list. Calculate the basic pay, house rent allowance 10%, Dearness Allowance 5%, provident fund 12% to find the net salary."
   ]
  },
  {
   "cell_type": "code",
   "execution_count": 15,
   "metadata": {},
   "outputs": [
    {
     "name": "stdout",
     "output_type": "stream",
     "text": [
      "Hi, please enter your employee ID, number of days you worked, your daily wage: 788 378 1000\n",
      "Employee ID 788 \n",
      "Your basic pay is  378000 \n",
      "HRA is  37800.0 \n",
      "DA is  18900.0 \n",
      "amount deducted for the PF is  45360.0 \n",
      "Your net salary is  389340.0\n"
     ]
    }
   ],
   "source": [
    "emp = list(map(int, input(\"Hi, please enter your employee ID, number of days you worked, your daily wage: \").strip().split()))[:3]\n",
    "eid, present, wage = emp\n",
    "basic = present*wage\n",
    "hra = 0.1*basic\n",
    "da=0.05*basic\n",
    "pf=0.12*basic\n",
    "salary=basic+hra+da-pf\n",
    "print(\"Employee ID\", eid, \"\\nYour basic pay is \",basic,\"\\nHRA is \", hra, \"\\nDA is \", da, \"\\namount deducted for the PF is \", pf, \"\\nYour net salary is \",salary\n",
    ")"
   ]
  },
  {
   "cell_type": "code",
   "execution_count": null,
   "metadata": {},
   "outputs": [],
   "source": []
  }
 ],
 "metadata": {
  "kernelspec": {
   "display_name": "Python 3",
   "language": "python",
   "name": "python3"
  },
  "language_info": {
   "codemirror_mode": {
    "name": "ipython",
    "version": 3
   },
   "file_extension": ".py",
   "mimetype": "text/x-python",
   "name": "python",
   "nbconvert_exporter": "python",
   "pygments_lexer": "ipython3",
   "version": "3.8.5"
  }
 },
 "nbformat": 4,
 "nbformat_minor": 4
}
